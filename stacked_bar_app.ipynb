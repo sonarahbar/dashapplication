{
 "cells": [
  {
   "cell_type": "markdown",
   "metadata": {},
   "source": [
    "# Simple Example"
   ]
  },
  {
   "cell_type": "code",
   "execution_count": 57,
   "metadata": {},
   "outputs": [
    {
     "name": "stdout",
     "output_type": "stream",
     "text": [
      "Dash is running on http://127.0.0.1:8050/\n",
      "\n",
      "Dash is running on http://127.0.0.1:8050/\n",
      "\n",
      "Dash is running on http://127.0.0.1:8050/\n",
      "\n",
      "Dash is running on http://127.0.0.1:8050/\n",
      "\n",
      "Dash is running on http://127.0.0.1:8050/\n",
      "\n",
      "Dash is running on http://127.0.0.1:8050/\n",
      "\n",
      "Dash is running on http://127.0.0.1:8050/\n",
      "\n",
      "Dash is running on http://127.0.0.1:8050/\n",
      "\n",
      "Dash is running on http://127.0.0.1:8050/\n",
      "\n",
      "Dash is running on http://127.0.0.1:8050/\n",
      "\n",
      "Dash is running on http://127.0.0.1:8050/\n",
      "\n",
      " * Serving Flask app \"__main__\" (lazy loading)\n",
      " * Environment: production\n",
      "   WARNING: This is a development server. Do not use it in a production deployment.\n",
      "   Use a production WSGI server instead.\n",
      " * Debug mode: off\n"
     ]
    }
   ],
   "source": [
    "import dash\n",
    "import dash_core_components as dcc\n",
    "import dash_html_components as html\n",
    "import plotly.graph_objs as go\n",
    "import pandas as pd\n",
    "\n",
    "df = pd.read_excel(\"https://github.com/chris1610/pbpython/blob/master/data/salesfunnel.xlsx?raw=True\")\n",
    "pv = pd.pivot_table(df, index=['Name'], columns=[\"Status\"], values=['Quantity'], aggfunc=sum, fill_value=0)\n",
    "\n",
    "trace1 = go.Bar(x=pv.index, y=pv[('Quantity', 'declined')], name='Declined')\n",
    "trace2 = go.Bar(x=pv.index, y=pv[('Quantity', 'pending')], name='Pending')\n",
    "trace3 = go.Bar(x=pv.index, y=pv[('Quantity', 'presented')], name='Presented')\n",
    "trace4 = go.Bar(x=pv.index, y=pv[('Quantity', 'won')], name='Won')\n",
    "app = dash.Dash()\n",
    "\n",
    "app.layout = html.Div(children=[\n",
    "    html.H1(children='Sales Funnel Report'),\n",
    "    html.Div(children='''National Sales Funnel Report.'''),\n",
    "    dcc.Graph(\n",
    "        id='example-graph',\n",
    "        figure={\n",
    "            'data': [trace1, trace2, trace3, trace4],\n",
    "            'layout':\n",
    "            go.Layout(title='Order Status by Customer', barmode='stack')\n",
    "        })\n",
    "])\n",
    "if __name__ == '__main__':\n",
    "    app.run_server(debug=False)"
   ]
  },
  {
   "cell_type": "markdown",
   "metadata": {},
   "source": [
    "## More Complex Example"
   ]
  },
  {
   "cell_type": "code",
   "execution_count": null,
   "metadata": {},
   "outputs": [
    {
     "name": "stdout",
     "output_type": "stream",
     "text": [
      "Dash is running on http://127.0.0.1:8050/\n",
      "\n",
      "Dash is running on http://127.0.0.1:8050/\n",
      "\n",
      "Dash is running on http://127.0.0.1:8050/\n",
      "\n",
      "Dash is running on http://127.0.0.1:8050/\n",
      "\n",
      "Dash is running on http://127.0.0.1:8050/\n",
      "\n",
      "Dash is running on http://127.0.0.1:8050/\n",
      "\n",
      "Dash is running on http://127.0.0.1:8050/\n",
      "\n",
      "Dash is running on http://127.0.0.1:8050/\n",
      "\n",
      "Dash is running on http://127.0.0.1:8050/\n",
      "\n",
      "Dash is running on http://127.0.0.1:8050/\n",
      "\n",
      "Dash is running on http://127.0.0.1:8050/\n",
      "\n",
      "Dash is running on http://127.0.0.1:8050/\n",
      "\n",
      " * Serving Flask app \"__main__\" (lazy loading)\n",
      " * Environment: production\n",
      "   WARNING: This is a development server. Do not use it in a production deployment.\n",
      "   Use a production WSGI server instead.\n",
      " * Debug mode: off\n"
     ]
    }
   ],
   "source": [
    "import dash\n",
    "import dash_core_components as dcc\n",
    "import dash_html_components as html\n",
    "import plotly.graph_objs as go\n",
    "import pandas as pd\n",
    "\n",
    "# Read in the data from Excel\n",
    "df = pd.read_excel(\n",
    "    \"https://github.com/chris1610/pbpython/blob/master/data/salesfunnel.xlsx?raw=True\"\n",
    ")\n",
    "\n",
    "# Get a list of all the avilable managers\n",
    "mgr_options = df[\"Manager\"].unique()\n",
    "\n",
    "app = dash.Dash()\n",
    "\n",
    "# Populate the layout with HTML and graph components\n",
    "app.layout = html.Div([\n",
    "    html.H2(\"Sales Funnel Report\"),\n",
    "    html.Div(\n",
    "        [\n",
    "            dcc.Dropdown(\n",
    "                id=\"Manager\",\n",
    "                options=[{\n",
    "                    'label': i,\n",
    "                    'value': i\n",
    "                } for i in mgr_options],\n",
    "                value='All Managers'),\n",
    "        ],\n",
    "        style={'width': '25%',\n",
    "               'display': 'inline-block'}),\n",
    "    dcc.Graph(id='funnel-graph'),\n",
    "])\n",
    "\n",
    "\n",
    "# Add the callbacks to support the interactive componets\n",
    "@app.callback(\n",
    "    dash.dependencies.Output('funnel-graph', 'figure'),\n",
    "    [dash.dependencies.Input('Manager', 'value')])\n",
    "def update_graph(Manager):\n",
    "    if Manager == \"All Managers\":\n",
    "        df_plot = df.copy()\n",
    "    else:\n",
    "        df_plot = df[df['Manager'] == Manager]\n",
    "\n",
    "    pv = pd.pivot_table(\n",
    "        df_plot,\n",
    "        index=['Name'],\n",
    "        columns=[\"Status\"],\n",
    "        values=['Quantity'],\n",
    "        aggfunc=sum,\n",
    "        fill_value=0)\n",
    "\n",
    "    trace1 = go.Bar(x=pv.index, y=pv[('Quantity', 'declined')], name='Declined')\n",
    "    trace2 = go.Bar(x=pv.index, y=pv[('Quantity', 'pending')], name='Pending')\n",
    "    trace3 = go.Bar(x=pv.index, y=pv[('Quantity', 'presented')], name='Presented')\n",
    "    trace4 = go.Bar(x=pv.index, y=pv[('Quantity', 'won')], name='Won')\n",
    "\n",
    "    return {\n",
    "        'data': [trace1, trace2, trace3, trace4],\n",
    "        'layout':\n",
    "        go.Layout(\n",
    "            title='Customer Order Status for {}'.format(Manager),\n",
    "            barmode='stack')\n",
    "    }\n",
    "\n",
    "\n",
    "if __name__ == '__main__':\n",
    "    app.run_server(debug=False)"
   ]
  },
  {
   "cell_type": "markdown",
   "metadata": {},
   "source": [
    "https://pbpython.com/plotly-dash-intro.html"
   ]
  }
 ],
 "metadata": {
  "kernelspec": {
   "display_name": "Python 3",
   "language": "python",
   "name": "python3"
  },
  "language_info": {
   "codemirror_mode": {
    "name": "ipython",
    "version": 3
   },
   "file_extension": ".py",
   "mimetype": "text/x-python",
   "name": "python",
   "nbconvert_exporter": "python",
   "pygments_lexer": "ipython3",
   "version": "3.7.4"
  }
 },
 "nbformat": 4,
 "nbformat_minor": 2
}
